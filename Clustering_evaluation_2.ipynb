{
 "cells": [
  {
   "cell_type": "code",
   "execution_count": 1,
   "metadata": {},
   "outputs": [],
   "source": [
    "\"------------Collecting the Data----------------------------------------------------\"\n",
    "import pandas as pd\n",
    "\"--------------------------------------------------------------------------------------------------------------\"\n",
    "pd.set_option('display.max_columns', None)   # By doing so, columns never be terminated\n",
    "pd.set_option('display.max_rows', None)      # By doing so, rows never be terminated\n",
    "\"---------------------------------------------------------------------------------------------------------------\"\n",
    "\n",
    "df1=pd.read_csv('fish.csv',header=None)\n",
    "species=df1[0].values"
   ]
  },
  {
   "cell_type": "code",
   "execution_count": 2,
   "metadata": {},
   "outputs": [],
   "source": [
    "samples=df1.drop(0,axis=1).values\n",
    "import seaborn as sns\n",
    "from sklearn.cluster import KMeans\n",
    "sns.set()\n",
    "import numpy as np\n",
    "inertia_matrix=[]\n",
    "kmeans_values=np.arange(1,10)\n",
    "for i in kmeans_values:\n",
    "    model=KMeans(n_clusters=i)\n",
    "    model.fit(samples)\n",
    "    inertia_matrix.append(model.inertia_)"
   ]
  },
  {
   "cell_type": "code",
   "execution_count": 3,
   "metadata": {},
   "outputs": [
    {
     "data": {
      "image/png": "[encoded data removed]",
      "text/plain": [
       "<Figure size 432x288 with 1 Axes>"
      ]
     },
     "metadata": {
      "needs_background": "light"
     },
     "output_type": "display_data"
    }
   ],
   "source": [
    "import matplotlib.pyplot as plt\n",
    "plt.plot(kmeans_values, inertia_matrix, marker='o')\n",
    "plt.xticks(kmeans_values)\n",
    "plt.xlabel('n_clusters')\n",
    "plt.ylabel('entropy')\n",
    "plt.show()    "
   ]
  },
  {
   "cell_type": "markdown",
   "metadata": {},
   "source": [
    "Conclusion:\n",
    "- '4' seems to be the right choice for the number of clusters (Note: This data_set is 6-D). "
   ]
  },
  {
   "cell_type": "code",
   "execution_count": 4,
   "metadata": {},
   "outputs": [
    {
     "name": "stdout",
     "output_type": "stream",
     "text": [
      "species  Bream  Pike  Roach  Smelt\n",
      "labels                            \n",
      "0           17    10      3      0\n",
      "1           16     2      0      0\n",
      "2            1     1     17     14\n",
      "3            0     4      0      0\n"
     ]
    }
   ],
   "source": [
    "# Now I am going to fit KMeans by setting 4 number of clusters and print cross-tabulation\n",
    "from sklearn.cluster import KMeans\n",
    "kmeans = KMeans(n_clusters=4)\n",
    "kmeans.fit(samples)\n",
    "lab=kmeans.predict(samples)\n",
    "df1 = pd.DataFrame({'labels':lab,'species':species})\n",
    "ct_1 = pd.crosstab(df1['labels'],df1['species'])\n",
    "print(ct_1)"
   ]
  },
  {
   "cell_type": "markdown",
   "metadata": {},
   "source": [
    "Conclusion:\n",
    "- It is not a good result as the cluster of Roach and Smelt are coincide in the second row. However I was expecting that each row must clearly indicate only one species.\n",
    "- Some time it happend due to high variances.\n",
    "- In the next excercise I am going to check the variances of the data."
   ]
  },
  {
   "cell_type": "code",
   "execution_count": 5,
   "metadata": {},
   "outputs": [
    {
     "name": "stdout",
     "output_type": "stream",
     "text": [
      "Variances of all the columns of the fish data set :  143403.49889273357 125.95225743944637 146.72855916955018 172.1194823529412 105.8937993079585 4.430953633217994\n"
     ]
    }
   ],
   "source": [
    "print(\"Variances of all the columns of the fish data set : \", samples[:,0].var(),samples[:,1].var(),samples[:,2].var(),samples[:,3].var(),samples[:,4].var(),samples[:,5].var())"
   ]
  },
  {
   "cell_type": "markdown",
   "metadata": {},
   "source": [
    "Conclusion:\n",
    "- As expected variances of the columns are very high. (For Ex: compare the variance of first column (143403.5) and the last column (4.4) )\n",
    "- To handle this situation I am going to standerised the data using StandardScaler from sklearn.preprocessing in the following."
   ]
  },
  {
   "cell_type": "code",
   "execution_count": 6,
   "metadata": {},
   "outputs": [],
   "source": [
    "# Perform the necessary imports\n",
    "from sklearn.preprocessing import StandardScaler\n",
    "from sklearn.pipeline import make_pipeline\n",
    "\n",
    "\n",
    "# Create scaler: scaler\n",
    "scaler = StandardScaler()\n",
    "\n",
    "# Create KMeans instance: kmeans\n",
    "kmeans = KMeans(n_clusters=4)\n",
    "\n",
    "# Create pipeline: pipeline\n",
    "pipeline = make_pipeline(scaler,kmeans)"
   ]
  },
  {
   "cell_type": "code",
   "execution_count": 7,
   "metadata": {},
   "outputs": [
    {
     "name": "stdout",
     "output_type": "stream",
     "text": [
      "species  Bream  Pike  Roach  Smelt\n",
      "labels                            \n",
      "0            0     0      0     13\n",
      "1           33     0      1      0\n",
      "2            0    17      0      0\n",
      "3            1     0     19      1\n"
     ]
    }
   ],
   "source": [
    "# Fit the pipeline to samples\n",
    "pipeline.fit(samples)\n",
    "\n",
    "# Calculate the cluster labels: labels\n",
    "labels = pipeline.predict(samples)\n",
    "\n",
    "# Create a DataFrame with labels and species as columns: df\n",
    "df = pd.DataFrame({'labels':labels,'species':species})\n",
    "\n",
    "# Create crosstab: ct\n",
    "ct = pd.crosstab(df['labels'],df['species'])\n",
    "\n",
    "# Display ct\n",
    "print(ct)"
   ]
  },
  {
   "cell_type": "markdown",
   "metadata": {},
   "source": [
    "Conclusion:\n",
    "- It looks like the fish data separates really well into 4 clusters and each row dominated by one species of fish."
   ]
  },
  {
   "cell_type": "code",
   "execution_count": null,
   "metadata": {},
   "outputs": [],
   "source": []
  }
 ],
 "metadata": {
  "kernelspec": {
   "display_name": "Python 3",
   "language": "python",
   "name": "python3"
  },
  "language_info": {
   "codemirror_mode": {
    "name": "ipython",
    "version": 3
   },
   "file_extension": ".py",
   "mimetype": "text/x-python",
   "name": "python",
   "nbconvert_exporter": "python",
   "pygments_lexer": "ipython3",
   "version": "3.7.4"
  }
 },
 "nbformat": 4,
 "nbformat_minor": 2
}
